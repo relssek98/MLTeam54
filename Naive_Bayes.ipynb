{
  "cells": [
    {
      "cell_type": "markdown",
      "metadata": {
        "id": "tn7oDFIh9S7K"
      },
      "source": [
        "####Initate Packages"
      ]
    },
    {
      "cell_type": "code",
      "execution_count": null,
      "metadata": {
        "colab": {
          "base_uri": "https://localhost:8080/"
        },
        "id": "_-DcZVeX9P5P",
        "outputId": "a56cf42e-7347-4f0f-86da-936baffd77a7"
      },
      "outputs": [
        {
          "output_type": "stream",
          "name": "stderr",
          "text": [
            "[nltk_data] Downloading package punkt to /root/nltk_data...\n",
            "[nltk_data]   Unzipping tokenizers/punkt.zip.\n"
          ]
        },
        {
          "output_type": "execute_result",
          "data": {
            "text/plain": [
              "True"
            ]
          },
          "metadata": {},
          "execution_count": 1
        }
      ],
      "source": [
        "\n",
        "import nltk\n",
        "from nltk.stem.porter import PorterStemmer\n",
        "import numpy as np\n",
        "import pandas as pd\n",
        "from nltk.tokenize import word_tokenize\n",
        "from sklearn.feature_extraction.text import TfidfVectorizer\n",
        "from sklearn.model_selection import train_test_split\n",
        "from sklearn import naive_bayes\n",
        "from nltk.probability import FreqDist\n",
        "nltk.download('punkt')\n",
        "\n",
        "  "
      ]
    },
    {
      "cell_type": "markdown",
      "metadata": {
        "id": "Y1XpFO2ole6G"
      },
      "source": [
        "####Mount Google Drive (So you can get Data from the ML folder)"
      ]
    },
    {
      "cell_type": "code",
      "execution_count": null,
      "metadata": {
        "colab": {
          "base_uri": "https://localhost:8080/"
        },
        "id": "svma5PDXldI6",
        "outputId": "a2098d96-fd71-4155-84b9-629f5a9580a8"
      },
      "outputs": [
        {
          "output_type": "stream",
          "name": "stdout",
          "text": [
            "Mounted at /content/drive\n"
          ]
        }
      ],
      "source": [
        "from google.colab import drive\n",
        "drive.mount('/content/drive', force_remount=True)"
      ]
    },
    {
      "cell_type": "markdown",
      "metadata": {
        "id": "exfXXioaMKmA"
      },
      "source": [
        "####Import Data and Set up Data"
      ]
    },
    {
      "cell_type": "code",
      "execution_count": null,
      "metadata": {
        "id": "1vng1EkV6R9-"
      },
      "outputs": [],
      "source": [
        "data = pd.read_csv(r'/content/drive/MyDrive/Machine Learning/Data/SDoutput1.csv')\n",
        "#data = pd.read_csv('SDoutput1.csv')"
      ]
    },
    {
      "cell_type": "code",
      "execution_count": null,
      "metadata": {
        "colab": {
          "base_uri": "https://localhost:8080/"
        },
        "id": "zMPIe8tJ6m46",
        "outputId": "d289f6f8-0493-4438-d35f-ba64370e0c85"
      },
      "outputs": [
        {
          "output_type": "stream",
          "name": "stdout",
          "text": [
            "   Unnamed: 0                                              clean label\n",
            "0           0  [ex, wife, threaten, suiciderec, left, wife, g...     1\n",
            "1           1  [weird, get, affect, compliment, come, someon,...     0\n",
            "2           2  [final, 2020, almost, never, hear, 2020, ha, b...     0\n",
            "3           3                  [need, helpjust, help, cri, hard]     1\n",
            "4           4  [losthello, name, adam, 16, struggl, year, afr...     1\n",
            "166612\n",
            "83286\n",
            "83326\n"
          ]
        }
      ],
      "source": [
        "from ast import literal_eval\n",
        "data['clean'] = data['clean'].apply(literal_eval)\n",
        "\n",
        "data.loc[data[\"label\"]=='suicide', \"label\"] = 1\n",
        "data.loc[data[\"label\"]=='non-suicide', \"label\"] = 0\n",
        "\n",
        "\n",
        "print(data.head())\n",
        "print(len(data))\n",
        "print(len(data[data[\"label\"] == 1]))\n",
        "print(len(data[data[\"label\"] == 0]))\n"
      ]
    },
    {
      "cell_type": "markdown",
      "metadata": {
        "id": "UmuOjj8-9CfX"
      },
      "source": [
        "##### Split data into suicidal and non suicidal tables"
      ]
    },
    {
      "cell_type": "code",
      "execution_count": null,
      "metadata": {
        "id": "HFsR8HLQ10dI"
      },
      "outputs": [],
      "source": [
        "dataSuicidal = data[data[\"label\"] == 1]\n",
        "dataNon = data[data[\"label\"] == 0]\n"
      ]
    },
    {
      "cell_type": "markdown",
      "metadata": {
        "id": "vBtWlzg99Kfb"
      },
      "source": [
        "####Create frequency dist of words"
      ]
    },
    {
      "cell_type": "code",
      "execution_count": null,
      "metadata": {
        "colab": {
          "base_uri": "https://localhost:8080/"
        },
        "id": "N1Q5osf29KI2",
        "outputId": "3467493d-d0b4-498c-9512-501ff7a7d3c8"
      },
      "outputs": [
        {
          "output_type": "stream",
          "name": "stdout",
          "text": [
            "FreqDist({'thi': 131865, 'wa': 129270, 'want': 120297, 'feel': 107369, 'like': 98516, 'know': 87109, 'go': 86238, 'get': 81907, 'life': 79803, 'becaus': 69599, ...})\n",
            "FreqDist({'like': 39092, 'thi': 38951, 'wa': 34612, 'filler': 31363, 'want': 25752, 'go': 23374, 'get': 23067, 'know': 22993, 'fuck': 20988, 'becaus': 17430, ...})\n"
          ]
        }
      ],
      "source": [
        "from nltk.probability import FreqDist\n",
        "\n",
        "dataSuicidal_Freq = FreqDist()\n",
        "\n",
        "for row in dataSuicidal['clean']:\n",
        "  for word in row:\n",
        "    dataSuicidal_Freq[word.lower()]+= 1\n",
        "print(repr(dataSuicidal_Freq))\n",
        "\n",
        "dataNon_Freq = FreqDist()\n",
        "\n",
        "for row in dataNon['clean']:\n",
        "  for word in row:\n",
        "    dataNon_Freq[word.lower()]+= 1\n",
        "print(repr(dataNon_Freq))\n"
      ]
    },
    {
      "cell_type": "markdown",
      "metadata": {
        "id": "NU2bhJectYl3"
      },
      "source": [
        "####Convert to freq table\n"
      ]
    },
    {
      "cell_type": "code",
      "execution_count": null,
      "metadata": {
        "colab": {
          "base_uri": "https://localhost:8080/",
          "height": 672
        },
        "id": "10sLLhiK_jJ2",
        "outputId": "372011e8-c63a-4790-b90e-e9529712abf5"
      },
      "outputs": [
        {
          "output_type": "execute_result",
          "data": {
            "text/plain": [
              "            Frequency Suicidal  Frequency Non\n",
              "ex                      3409.0          505.0\n",
              "wife                    2692.0          250.0\n",
              "threaten                1345.0          225.0\n",
              "suiciderec                 1.0            0.0\n",
              "left                   12157.0         1942.0\n",
              "...                        ...            ...\n",
              "followtini                 0.0            1.0\n",
              "yearssss                   0.0            1.0\n",
              "happensth                  0.0            1.0\n",
              "66142                      0.0            1.0\n",
              "armistic                   0.0            1.0\n",
              "\n",
              "[141347 rows x 2 columns]"
            ],
            "text/html": [
              "\n",
              "  <div id=\"df-2e069ca0-91d0-4c07-a8f3-350d4f5725ff\">\n",
              "    <div class=\"colab-df-container\">\n",
              "      <div>\n",
              "<style scoped>\n",
              "    .dataframe tbody tr th:only-of-type {\n",
              "        vertical-align: middle;\n",
              "    }\n",
              "\n",
              "    .dataframe tbody tr th {\n",
              "        vertical-align: top;\n",
              "    }\n",
              "\n",
              "    .dataframe thead th {\n",
              "        text-align: right;\n",
              "    }\n",
              "</style>\n",
              "<table border=\"1\" class=\"dataframe\">\n",
              "  <thead>\n",
              "    <tr style=\"text-align: right;\">\n",
              "      <th></th>\n",
              "      <th>Frequency Suicidal</th>\n",
              "      <th>Frequency Non</th>\n",
              "    </tr>\n",
              "  </thead>\n",
              "  <tbody>\n",
              "    <tr>\n",
              "      <th>ex</th>\n",
              "      <td>3409.0</td>\n",
              "      <td>505.0</td>\n",
              "    </tr>\n",
              "    <tr>\n",
              "      <th>wife</th>\n",
              "      <td>2692.0</td>\n",
              "      <td>250.0</td>\n",
              "    </tr>\n",
              "    <tr>\n",
              "      <th>threaten</th>\n",
              "      <td>1345.0</td>\n",
              "      <td>225.0</td>\n",
              "    </tr>\n",
              "    <tr>\n",
              "      <th>suiciderec</th>\n",
              "      <td>1.0</td>\n",
              "      <td>0.0</td>\n",
              "    </tr>\n",
              "    <tr>\n",
              "      <th>left</th>\n",
              "      <td>12157.0</td>\n",
              "      <td>1942.0</td>\n",
              "    </tr>\n",
              "    <tr>\n",
              "      <th>...</th>\n",
              "      <td>...</td>\n",
              "      <td>...</td>\n",
              "    </tr>\n",
              "    <tr>\n",
              "      <th>followtini</th>\n",
              "      <td>0.0</td>\n",
              "      <td>1.0</td>\n",
              "    </tr>\n",
              "    <tr>\n",
              "      <th>yearssss</th>\n",
              "      <td>0.0</td>\n",
              "      <td>1.0</td>\n",
              "    </tr>\n",
              "    <tr>\n",
              "      <th>happensth</th>\n",
              "      <td>0.0</td>\n",
              "      <td>1.0</td>\n",
              "    </tr>\n",
              "    <tr>\n",
              "      <th>66142</th>\n",
              "      <td>0.0</td>\n",
              "      <td>1.0</td>\n",
              "    </tr>\n",
              "    <tr>\n",
              "      <th>armistic</th>\n",
              "      <td>0.0</td>\n",
              "      <td>1.0</td>\n",
              "    </tr>\n",
              "  </tbody>\n",
              "</table>\n",
              "<p>141347 rows × 2 columns</p>\n",
              "</div>\n",
              "      <button class=\"colab-df-convert\" onclick=\"convertToInteractive('df-2e069ca0-91d0-4c07-a8f3-350d4f5725ff')\"\n",
              "              title=\"Convert this dataframe to an interactive table.\"\n",
              "              style=\"display:none;\">\n",
              "        \n",
              "  <svg xmlns=\"http://www.w3.org/2000/svg\" height=\"24px\"viewBox=\"0 0 24 24\"\n",
              "       width=\"24px\">\n",
              "    <path d=\"M0 0h24v24H0V0z\" fill=\"none\"/>\n",
              "    <path d=\"M18.56 5.44l.94 2.06.94-2.06 2.06-.94-2.06-.94-.94-2.06-.94 2.06-2.06.94zm-11 1L8.5 8.5l.94-2.06 2.06-.94-2.06-.94L8.5 2.5l-.94 2.06-2.06.94zm10 10l.94 2.06.94-2.06 2.06-.94-2.06-.94-.94-2.06-.94 2.06-2.06.94z\"/><path d=\"M17.41 7.96l-1.37-1.37c-.4-.4-.92-.59-1.43-.59-.52 0-1.04.2-1.43.59L10.3 9.45l-7.72 7.72c-.78.78-.78 2.05 0 2.83L4 21.41c.39.39.9.59 1.41.59.51 0 1.02-.2 1.41-.59l7.78-7.78 2.81-2.81c.8-.78.8-2.07 0-2.86zM5.41 20L4 18.59l7.72-7.72 1.47 1.35L5.41 20z\"/>\n",
              "  </svg>\n",
              "      </button>\n",
              "      \n",
              "  <style>\n",
              "    .colab-df-container {\n",
              "      display:flex;\n",
              "      flex-wrap:wrap;\n",
              "      gap: 12px;\n",
              "    }\n",
              "\n",
              "    .colab-df-convert {\n",
              "      background-color: #E8F0FE;\n",
              "      border: none;\n",
              "      border-radius: 50%;\n",
              "      cursor: pointer;\n",
              "      display: none;\n",
              "      fill: #1967D2;\n",
              "      height: 32px;\n",
              "      padding: 0 0 0 0;\n",
              "      width: 32px;\n",
              "    }\n",
              "\n",
              "    .colab-df-convert:hover {\n",
              "      background-color: #E2EBFA;\n",
              "      box-shadow: 0px 1px 2px rgba(60, 64, 67, 0.3), 0px 1px 3px 1px rgba(60, 64, 67, 0.15);\n",
              "      fill: #174EA6;\n",
              "    }\n",
              "\n",
              "    [theme=dark] .colab-df-convert {\n",
              "      background-color: #3B4455;\n",
              "      fill: #D2E3FC;\n",
              "    }\n",
              "\n",
              "    [theme=dark] .colab-df-convert:hover {\n",
              "      background-color: #434B5C;\n",
              "      box-shadow: 0px 1px 3px 1px rgba(0, 0, 0, 0.15);\n",
              "      filter: drop-shadow(0px 1px 2px rgba(0, 0, 0, 0.3));\n",
              "      fill: #FFFFFF;\n",
              "    }\n",
              "  </style>\n",
              "\n",
              "      <script>\n",
              "        const buttonEl =\n",
              "          document.querySelector('#df-2e069ca0-91d0-4c07-a8f3-350d4f5725ff button.colab-df-convert');\n",
              "        buttonEl.style.display =\n",
              "          google.colab.kernel.accessAllowed ? 'block' : 'none';\n",
              "\n",
              "        async function convertToInteractive(key) {\n",
              "          const element = document.querySelector('#df-2e069ca0-91d0-4c07-a8f3-350d4f5725ff');\n",
              "          const dataTable =\n",
              "            await google.colab.kernel.invokeFunction('convertToInteractive',\n",
              "                                                     [key], {});\n",
              "          if (!dataTable) return;\n",
              "\n",
              "          const docLinkHtml = 'Like what you see? Visit the ' +\n",
              "            '<a target=\"_blank\" href=https://colab.research.google.com/notebooks/data_table.ipynb>data table notebook</a>'\n",
              "            + ' to learn more about interactive tables.';\n",
              "          element.innerHTML = '';\n",
              "          dataTable['output_type'] = 'display_data';\n",
              "          await google.colab.output.renderOutput(dataTable, element);\n",
              "          const docLink = document.createElement('div');\n",
              "          docLink.innerHTML = docLinkHtml;\n",
              "          element.appendChild(docLink);\n",
              "        }\n",
              "      </script>\n",
              "    </div>\n",
              "  </div>\n",
              "  "
            ]
          },
          "metadata": {},
          "execution_count": 7
        },
        {
          "output_type": "stream",
          "name": "stdout",
          "text": [
            "Warning: total number of rows (141347) exceeds max_rows (20000). Limiting to first (20000) rows.\n"
          ]
        }
      ],
      "source": [
        "dataSuicidal_Ftable = pd.DataFrame.from_dict(dataSuicidal_Freq, orient = 'index')\n",
        "dataSuicidal_Ftable.columns = ['Frequency Suicidal']\n",
        "# dataSuicidal_Ftable\n",
        "\n",
        "dataNon_Ftable = pd.DataFrame.from_dict(dataNon_Freq, orient = 'index')\n",
        "dataNon_Ftable.columns = ['Frequency Non']\n",
        "# dataNon_Ftable\n",
        "\n",
        "Both_Ftable = pd.concat([dataSuicidal_Ftable, dataNon_Ftable], axis = 1)\n",
        "Both_Ftable = Both_Ftable.fillna(0)\n",
        "\n",
        "Both_Ftable.head(100000000)"
      ]
    },
    {
      "cell_type": "markdown",
      "metadata": {
        "id": "l2ImKkC9tYl4"
      },
      "source": [
        "####TD-IDF Vectorization"
      ]
    },
    {
      "cell_type": "code",
      "execution_count": null,
      "metadata": {
        "colab": {
          "base_uri": "https://localhost:8080/"
        },
        "id": "g2HHNlantYl4",
        "outputId": "2dd60787-bf46-49e0-ea78-9c2cd41de07a"
      },
      "outputs": [
        {
          "output_type": "stream",
          "name": "stdout",
          "text": [
            "Text training data before TD IDF\n",
            "119342                      [anyon, chati, need, big, time]\n",
            "9100      [realiz, scarecrow, call, scarecrow, becaus, s...\n",
            "122475    [tonight, nightim, worthless, 24, almost, 25, ...\n",
            "44869     [one, day, go, deadit, 's, hard, think, start,...\n",
            "46426     [wonder, ever, think, time, seem, like, alway,...\n",
            "Name: clean, dtype: object \n",
            "\n",
            "Text training data after TD IDF\n",
            "  (0, 108790)\t0.19532035560997257\n",
            "  (0, 20938)\t0.36512246997817227\n",
            "  (0, 75498)\t0.2324539365157479\n",
            "  (0, 26134)\t0.8451019515359366\n",
            "  (0, 15909)\t0.2455675049959109\n",
            "  (1, 30866)\t0.4042427873925088\n",
            "  (1, 94493)\t0.15419198311020513\n",
            "  (1, 19861)\t0.09229070860124082\n",
            "  (1, 24488)\t0.14033782184363078\n",
            "  (1, 94497)\t0.8695595880527512\n",
            "  (1, 89616)\t0.16872001919533117\n",
            "  (2, 14335)\t0.0915642263405557\n",
            "  (2, 49648)\t0.0372930651239029\n",
            "  (2, 98767)\t0.06661086430054902\n",
            "  (2, 41201)\t0.11785199109346173\n",
            "  (2, 39601)\t0.061781302682819846\n",
            "  (2, 41719)\t0.05483562743749304\n",
            "  (2, 115038)\t0.13314607322581512\n",
            "  (2, 47349)\t0.04947631934014868\n",
            "  (2, 41637)\t0.05771626167312251\n",
            "  (2, 50253)\t0.12271115970443743\n",
            "  (2, 56932)\t0.07350183792506805\n",
            "  (2, 45025)\t0.05997802557316265\n",
            "  (2, 13350)\t0.09211776849459885\n",
            "  (2, 118544)\t0.08146745235390121\n",
            "  :\t:\n",
            "  (133288, 20559)\t0.10848438938663203\n",
            "  (133288, 34842)\t0.08790944991266551\n",
            "  (133288, 46012)\t0.2878747010702385\n",
            "  (133288, 46786)\t0.0775256751949862\n",
            "  (133288, 74007)\t0.08361668535504413\n",
            "  (133288, 117160)\t0.17523466892489722\n",
            "  (133288, 14089)\t0.23248960660075968\n",
            "  (133288, 67555)\t0.10319113729118044\n",
            "  (133288, 12832)\t0.10840014903343574\n",
            "  (133288, 67922)\t0.1161864536167444\n",
            "  (133288, 111089)\t0.07876116731158427\n",
            "  (133288, 52904)\t0.10328232581107977\n",
            "  (133288, 63991)\t0.12657961108077886\n",
            "  (133288, 99970)\t0.0897386456892982\n",
            "  (133288, 54304)\t0.08269072712798536\n",
            "  (133288, 79582)\t0.08156000588546468\n",
            "  (133288, 92006)\t0.09249873220653151\n",
            "  (133288, 40099)\t0.08619466460789382\n",
            "  (133288, 102367)\t0.09941542528321007\n",
            "  (133288, 32277)\t0.2739500675933118\n",
            "  (133288, 41396)\t0.0761073690362725\n",
            "  (133288, 32417)\t0.07910146373353018\n",
            "  (133288, 98767)\t0.11310044581631311\n",
            "  (133288, 41719)\t0.09310694246233636\n",
            "  (133288, 68061)\t0.09136054337762786\n"
          ]
        }
      ],
      "source": [
        "data_x = data[\"clean\"]\n",
        "data_y = data[\"label\"]\n",
        "x_train, x_test, y_train, y_test = train_test_split(data_x, data_y, test_size = 0.2, random_state=100) #What does Random state do? Preset Rando?\n",
        "print(\"Text training data before TD IDF\")\n",
        "print(x_train.head(),\"\\n\")\n",
        "\n",
        "def dummy_tokenizer(data):\n",
        "  return data\n",
        "\n",
        "cv = TfidfVectorizer(\n",
        "    min_df = 1,\n",
        "    analyzer='word',\n",
        "    tokenizer=dummy_tokenizer,\n",
        "    preprocessor=dummy_tokenizer,\n",
        "    token_pattern = None)\n",
        "\n",
        "x_traincv = cv.fit_transform(x_train)\n",
        "x_testcv = cv.transform(x_test)\n",
        "print(\"Text training data after TD IDF\")\n",
        "print(x_traincv)"
      ]
    },
    {
      "cell_type": "markdown",
      "metadata": {
        "id": "wn3LXgjpTlnE"
      },
      "source": [
        "####MultinomialNB\n"
      ]
    },
    {
      "cell_type": "code",
      "execution_count": null,
      "metadata": {
        "colab": {
          "base_uri": "https://localhost:8080/"
        },
        "id": "hFP7Ge-ITofH",
        "outputId": "2fd95c71-4294-43cf-d0ee-7ba4777498b6"
      },
      "outputs": [
        {
          "output_type": "stream",
          "name": "stdout",
          "text": [
            "Training Data Labels\n",
            "119342    1\n",
            "9100      0\n",
            "122475    1\n",
            "44869     1\n",
            "Name: label, dtype: int64 \n",
            "\n",
            "[0 1 1 ... 0 1 1]\n",
            "150391    0\n",
            "90086     1\n",
            "112748    1\n",
            "33856     1\n",
            "119799    0\n",
            "         ..\n",
            "45086     0\n",
            "35597     0\n",
            "84634     0\n",
            "122314    1\n",
            "29851     1\n",
            "Name: label, Length: 33323, dtype: object\n",
            "\n",
            "Accuracy:  0.8809230861567086\n"
          ]
        }
      ],
      "source": [
        "\n",
        "y_train = y_train.astype('int')\n",
        "print(\"Training Data Labels\")\n",
        "print(y_train.head(4), \"\\n\")\n",
        "\n",
        "classifier = naive_bayes.MultinomialNB()\n",
        "classifier.fit(x_traincv, y_train)\n",
        "\n",
        "y_predicted = classifier.predict(x_testcv)\n",
        "from sklearn.metrics import accuracy_score\n",
        "\n",
        "print(y_predicted)\n",
        "print(y_test)\n",
        "\n",
        "accuracy = accuracy_score(y_test.tolist(), y_predicted)\n",
        "print(\"\\nAccuracy: \", accuracy)"
      ]
    }
  ],
  "metadata": {
    "accelerator": "GPU",
    "colab": {
      "collapsed_sections": [],
      "provenance": []
    },
    "gpuClass": "standard",
    "kernelspec": {
      "display_name": "Python 3.9.13 ('base')",
      "language": "python",
      "name": "python3"
    },
    "language_info": {
      "codemirror_mode": {
        "name": "ipython",
        "version": 3
      },
      "file_extension": ".py",
      "mimetype": "text/x-python",
      "name": "python",
      "nbconvert_exporter": "python",
      "pygments_lexer": "ipython3",
      "version": "3.9.13"
    },
    "vscode": {
      "interpreter": {
        "hash": "4d9defa72c2715dab9f7f172572cd30a1ab1a2083462d32ef96aadb7c6e0c73b"
      }
    }
  },
  "nbformat": 4,
  "nbformat_minor": 0
}