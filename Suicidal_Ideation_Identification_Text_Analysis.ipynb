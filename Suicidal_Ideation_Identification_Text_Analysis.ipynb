{
  "cells": [
    {
      "cell_type": "markdown",
      "metadata": {
        "id": "kRrzCYw0fIyn"
      },
      "source": [
        "#Setup"
      ]
    },
    {
      "cell_type": "markdown",
      "metadata": {
        "id": "C-PMZ4GIfL6f"
      },
      "source": [
        "##Open Packages"
      ]
    },
    {
      "cell_type": "code",
      "execution_count": null,
      "metadata": {
        "colab": {
          "base_uri": "https://localhost:8080/"
        },
        "id": "gT_Ay-O0fA91",
        "outputId": "6a926238-ab0a-4abf-e08c-5a2ca697507c"
      },
      "outputs": [
        {
          "name": "stderr",
          "output_type": "stream",
          "text": [
            "[nltk_data] Downloading package punkt to /root/nltk_data...\n",
            "[nltk_data]   Package punkt is already up-to-date!\n"
          ]
        }
      ],
      "source": [
        "import nltk\n",
        "from nltk.stem.porter import PorterStemmer\n",
        "import numpy as np\n",
        "import pandas as pd\n",
        "from nltk.tokenize import word_tokenize\n",
        "from sklearn.feature_extraction.text import TfidfTransformer\n",
        "from sklearn.model_selection import train_test_split\n",
        "from sklearn.linear_model import LogisticRegression\n",
        "from nltk.probability import FreqDist\n",
        "nltk.download('punkt')\n",
        "from sklearn import naive_bayes\n",
        "from sklearn.feature_extraction.text import CountVectorizer\n",
        "from sklearn.metrics import f1_score, accuracy_score\n",
        "from sklearn.ensemble import RandomForestClassifier\n",
        "from sklearn.datasets import make_classification"
      ]
    },
    {
      "cell_type": "markdown",
      "metadata": {
        "id": "j8pP3btQfSWr"
      },
      "source": [
        "##Mount Drive"
      ]
    },
    {
      "cell_type": "code",
      "execution_count": null,
      "metadata": {
        "colab": {
          "base_uri": "https://localhost:8080/"
        },
        "id": "l13SOMzTfVOR",
        "outputId": "384c2182-8abd-45a2-a872-910cf66533b7"
      },
      "outputs": [
        {
          "name": "stdout",
          "output_type": "stream",
          "text": [
            "Mounted at /content/drive\n"
          ]
        }
      ],
      "source": [
        "from google.colab import drive\n",
        "drive.mount('/content/drive', force_remount = True)"
      ]
    },
    {
      "cell_type": "markdown",
      "metadata": {
        "id": "YAJb65KmfXxj"
      },
      "source": [
        "##Open Data"
      ]
    },
    {
      "cell_type": "code",
      "execution_count": null,
      "metadata": {
        "colab": {
          "base_uri": "https://localhost:8080/"
        },
        "id": "PagX8cUMfXQm",
        "outputId": "196ea9c2-d42d-4ca5-a15b-9bee8a52a6ec"
      },
      "outputs": [
        {
          "name": "stdout",
          "output_type": "stream",
          "text": [
            "<class 'float'>\n"
          ]
        },
        {
          "data": {
            "text/html": [
              "\n",
              "  <div id=\"df-cf9a1a7f-89ef-4417-b28b-f1c0313d054c\">\n",
              "    <div class=\"colab-df-container\">\n",
              "      <div>\n",
              "<style scoped>\n",
              "    .dataframe tbody tr th:only-of-type {\n",
              "        vertical-align: middle;\n",
              "    }\n",
              "\n",
              "    .dataframe tbody tr th {\n",
              "        vertical-align: top;\n",
              "    }\n",
              "\n",
              "    .dataframe thead th {\n",
              "        text-align: right;\n",
              "    }\n",
              "</style>\n",
              "<table border=\"1\" class=\"dataframe\">\n",
              "  <thead>\n",
              "    <tr style=\"text-align: right;\">\n",
              "      <th></th>\n",
              "      <th>Unnamed: 0</th>\n",
              "      <th>clean</th>\n",
              "      <th>label</th>\n",
              "    </tr>\n",
              "  </thead>\n",
              "  <tbody>\n",
              "    <tr>\n",
              "      <th>0</th>\n",
              "      <td>0</td>\n",
              "      <td>[ex, wife, threaten, suiciderec, left, wife, g...</td>\n",
              "      <td>1.0</td>\n",
              "    </tr>\n",
              "    <tr>\n",
              "      <th>1</th>\n",
              "      <td>1</td>\n",
              "      <td>[weird, get, affect, compliment, come, someon,...</td>\n",
              "      <td>0.0</td>\n",
              "    </tr>\n",
              "    <tr>\n",
              "      <th>2</th>\n",
              "      <td>2</td>\n",
              "      <td>[final, 2020, almost, never, hear, 2020, ha, b...</td>\n",
              "      <td>0.0</td>\n",
              "    </tr>\n",
              "    <tr>\n",
              "      <th>3</th>\n",
              "      <td>3</td>\n",
              "      <td>[need, helpjust, help, cri, hard]</td>\n",
              "      <td>1.0</td>\n",
              "    </tr>\n",
              "    <tr>\n",
              "      <th>4</th>\n",
              "      <td>4</td>\n",
              "      <td>[losthello, name, adam, 16, struggl, year, afr...</td>\n",
              "      <td>1.0</td>\n",
              "    </tr>\n",
              "  </tbody>\n",
              "</table>\n",
              "</div>\n",
              "      <button class=\"colab-df-convert\" onclick=\"convertToInteractive('df-cf9a1a7f-89ef-4417-b28b-f1c0313d054c')\"\n",
              "              title=\"Convert this dataframe to an interactive table.\"\n",
              "              style=\"display:none;\">\n",
              "        \n",
              "  <svg xmlns=\"http://www.w3.org/2000/svg\" height=\"24px\"viewBox=\"0 0 24 24\"\n",
              "       width=\"24px\">\n",
              "    <path d=\"M0 0h24v24H0V0z\" fill=\"none\"/>\n",
              "    <path d=\"M18.56 5.44l.94 2.06.94-2.06 2.06-.94-2.06-.94-.94-2.06-.94 2.06-2.06.94zm-11 1L8.5 8.5l.94-2.06 2.06-.94-2.06-.94L8.5 2.5l-.94 2.06-2.06.94zm10 10l.94 2.06.94-2.06 2.06-.94-2.06-.94-.94-2.06-.94 2.06-2.06.94z\"/><path d=\"M17.41 7.96l-1.37-1.37c-.4-.4-.92-.59-1.43-.59-.52 0-1.04.2-1.43.59L10.3 9.45l-7.72 7.72c-.78.78-.78 2.05 0 2.83L4 21.41c.39.39.9.59 1.41.59.51 0 1.02-.2 1.41-.59l7.78-7.78 2.81-2.81c.8-.78.8-2.07 0-2.86zM5.41 20L4 18.59l7.72-7.72 1.47 1.35L5.41 20z\"/>\n",
              "  </svg>\n",
              "      </button>\n",
              "      \n",
              "  <style>\n",
              "    .colab-df-container {\n",
              "      display:flex;\n",
              "      flex-wrap:wrap;\n",
              "      gap: 12px;\n",
              "    }\n",
              "\n",
              "    .colab-df-convert {\n",
              "      background-color: #E8F0FE;\n",
              "      border: none;\n",
              "      border-radius: 50%;\n",
              "      cursor: pointer;\n",
              "      display: none;\n",
              "      fill: #1967D2;\n",
              "      height: 32px;\n",
              "      padding: 0 0 0 0;\n",
              "      width: 32px;\n",
              "    }\n",
              "\n",
              "    .colab-df-convert:hover {\n",
              "      background-color: #E2EBFA;\n",
              "      box-shadow: 0px 1px 2px rgba(60, 64, 67, 0.3), 0px 1px 3px 1px rgba(60, 64, 67, 0.15);\n",
              "      fill: #174EA6;\n",
              "    }\n",
              "\n",
              "    [theme=dark] .colab-df-convert {\n",
              "      background-color: #3B4455;\n",
              "      fill: #D2E3FC;\n",
              "    }\n",
              "\n",
              "    [theme=dark] .colab-df-convert:hover {\n",
              "      background-color: #434B5C;\n",
              "      box-shadow: 0px 1px 3px 1px rgba(0, 0, 0, 0.15);\n",
              "      filter: drop-shadow(0px 1px 2px rgba(0, 0, 0, 0.3));\n",
              "      fill: #FFFFFF;\n",
              "    }\n",
              "  </style>\n",
              "\n",
              "      <script>\n",
              "        const buttonEl =\n",
              "          document.querySelector('#df-cf9a1a7f-89ef-4417-b28b-f1c0313d054c button.colab-df-convert');\n",
              "        buttonEl.style.display =\n",
              "          google.colab.kernel.accessAllowed ? 'block' : 'none';\n",
              "\n",
              "        async function convertToInteractive(key) {\n",
              "          const element = document.querySelector('#df-cf9a1a7f-89ef-4417-b28b-f1c0313d054c');\n",
              "          const dataTable =\n",
              "            await google.colab.kernel.invokeFunction('convertToInteractive',\n",
              "                                                     [key], {});\n",
              "          if (!dataTable) return;\n",
              "\n",
              "          const docLinkHtml = 'Like what you see? Visit the ' +\n",
              "            '<a target=\"_blank\" href=https://colab.research.google.com/notebooks/data_table.ipynb>data table notebook</a>'\n",
              "            + ' to learn more about interactive tables.';\n",
              "          element.innerHTML = '';\n",
              "          dataTable['output_type'] = 'display_data';\n",
              "          await google.colab.output.renderOutput(dataTable, element);\n",
              "          const docLink = document.createElement('div');\n",
              "          docLink.innerHTML = docLinkHtml;\n",
              "          element.appendChild(docLink);\n",
              "        }\n",
              "      </script>\n",
              "    </div>\n",
              "  </div>\n",
              "  "
            ],
            "text/plain": [
              "   Unnamed: 0                                              clean label\n",
              "0           0  [ex, wife, threaten, suiciderec, left, wife, g...   1.0\n",
              "1           1  [weird, get, affect, compliment, come, someon,...   0.0\n",
              "2           2  [final, 2020, almost, never, hear, 2020, ha, b...   0.0\n",
              "3           3                  [need, helpjust, help, cri, hard]   1.0\n",
              "4           4  [losthello, name, adam, 16, struggl, year, afr...   1.0"
            ]
          },
          "execution_count": 4,
          "metadata": {},
          "output_type": "execute_result"
        }
      ],
      "source": [
        "data = pd.read_csv(r\"/content/drive/MyDrive/Machine Learning/Data/SDoutput1.csv\")\n",
        "from ast import literal_eval\n",
        "data['clean'] = data['clean'].apply(literal_eval)\n",
        "data.loc[data[\"label\"]=='suicide', \"label\"] = 1.0\n",
        "data.loc[data[\"label\"]=='non-suicide', \"label\"] = 0.0\n",
        "print(type(data[\"label\"][0]))\n",
        "\n",
        "data.head()"
      ]
    },
    {
      "cell_type": "markdown",
      "metadata": {
        "id": "fP17zD7OfctG"
      },
      "source": [
        "#Functions\n"
      ]
    },
    {
      "cell_type": "markdown",
      "metadata": {
        "id": "0QnNcu2Ufx0t"
      },
      "source": [
        "## Split data into Training and Test data"
      ]
    },
    {
      "cell_type": "code",
      "execution_count": null,
      "metadata": {
        "id": "SwZRnQqNf3iS"
      },
      "outputs": [],
      "source": [
        "def dataSplit(data):\n",
        "  training_data, test_data = train_test_split(data, train_size = 0.6)\n",
        "  bow_transform = CountVectorizer(tokenizer=lambda doc: doc, ngram_range=[1,1], lowercase=False) \n",
        "  #Adjust for ngrams later\n",
        "  # print(training_data.shape)\n",
        "  # print(test_data.shape)\n",
        "\n",
        "  x_train_bow = bow_transform.fit_transform(training_data['clean'])\n",
        "  # print(len(bow_transform.vocabulary_))\n",
        "  # print(x_train_bow)\n",
        "\n",
        "  X_test_bow = bow_transform.transform(test_data['clean'])\n",
        "\n",
        "  y_train = training_data['label']\n",
        "  y_train=y_train.astype('int')\n",
        "  y_test = test_data['label']\n",
        "  y_test=y_test.astype('int')\n",
        "\n",
        "  return x_train_bow, y_train, X_test_bow, y_test"
      ]
    },
    {
      "cell_type": "markdown",
      "metadata": {
        "id": "T_D0NNiogSHO"
      },
      "source": [
        "##Create TFIDF Training and Test data"
      ]
    },
    {
      "cell_type": "code",
      "execution_count": null,
      "metadata": {
        "id": "mJ917EhXgbBW"
      },
      "outputs": [],
      "source": [
        "def tfidfData(x_train_bow, X_test_bow):\n",
        "  tfidf_transform = TfidfTransformer(norm=None)\n",
        "  X_train_tfidf = tfidf_transform.fit_transform(x_train_bow)\n",
        "  X_test_tfidf = tfidf_transform.transform(X_test_bow)\n",
        "  return X_train_tfidf, X_test_tfidf"
      ]
    },
    {
      "cell_type": "markdown",
      "metadata": {
        "id": "Ae4sHeipgr__"
      },
      "source": [
        "##Logistic Regression Model Function"
      ]
    },
    {
      "cell_type": "code",
      "execution_count": null,
      "metadata": {
        "id": "HR8IXCzkgoY8"
      },
      "outputs": [],
      "source": [
        "def logRegFunction(x_train, y_train, x_test, y_test, info ,C1):\n",
        "  logReg = LogisticRegression(max_iter=5000, C = C1)\n",
        "  logReg.fit(x_train, y_train)\n",
        "  y_predicted_prob = logReg.predict_proba(x_test)\n",
        "  y_predicted = logReg.predict(x_test)\n",
        "  return (info,) + metricsCalc(y_test, y_predicted)"
      ]
    },
    {
      "cell_type": "markdown",
      "metadata": {
        "id": "0AL_ct4Igu58"
      },
      "source": [
        "##Multinomial Naive Bayes Function"
      ]
    },
    {
      "cell_type": "code",
      "execution_count": null,
      "metadata": {
        "id": "VEGArYF0gy7P"
      },
      "outputs": [],
      "source": [
        "def mnNaiveBayesFunction(x_train, y_train, x_test, y_test, info):\n",
        "  classifier = naive_bayes.MultinomialNB()\n",
        "  classifier.fit(x_train, y_train)\n",
        "  y_predicted = classifier.predict(x_test)\n",
        "  return (info,) + metricsCalc(y_test, y_predicted)"
      ]
    },
    {
      "cell_type": "markdown",
      "metadata": {
        "id": "bVzcRrfmg0yV"
      },
      "source": [
        "##Random Forest Function"
      ]
    },
    {
      "cell_type": "code",
      "execution_count": null,
      "metadata": {
        "id": "_OK5GcCrg0QA"
      },
      "outputs": [],
      "source": [
        "def randomForest(x_train, y_train, x_test, y_test, estimators, info): \n",
        "  classif = RandomForestClassifier(n_estimators= estimators)\n",
        "  classif.fit(x_train, y_train)\n",
        "  y_predicted = classif.predict(x_test)\n",
        "  return (info,) + metricsCalc(y_test, y_predicted)"
      ]
    },
    {
      "cell_type": "markdown",
      "metadata": {
        "id": "DwrYn8UUhJi0"
      },
      "source": [
        "##Metrics Calculator"
      ]
    },
    {
      "cell_type": "code",
      "execution_count": null,
      "metadata": {
        "id": "YBOJxSaWhT2o"
      },
      "outputs": [],
      "source": [
        "def metricsCalc(y_test, y_predicted):\n",
        "  #acc score\n",
        "  accuracy = accuracy_score(y_test.tolist(), y_predicted)\n",
        "\n",
        "  #create seperate dataframes\n",
        "  accuracyData = pd.DataFrame(\n",
        "      {'Y' : y_test.tolist(), 'Y Predicted': y_predicted.tolist()} )\n",
        "  GroundTruthSuicidal = accuracyData[accuracyData[\"Y\"] == 1]\n",
        "  GroundTruthNonSuicidal = accuracyData[accuracyData[\"Y\"] == 0]\n",
        "\n",
        "  #True Positive and False Negative Counts\n",
        "  true_positive_count = GroundTruthSuicidal['Y Predicted'].tolist().count(1)\n",
        "  false_negative_count = GroundTruthSuicidal['Y Predicted'].tolist().count(0)\n",
        "\n",
        "  #True Negative and False Positive Counts\n",
        "  true_negative_count = GroundTruthNonSuicidal['Y Predicted'].tolist().count(0)\n",
        "  false_positive_count = GroundTruthNonSuicidal['Y Predicted'].tolist().count(1)\n",
        "\n",
        "  #True Positive, True Negative, Precision \n",
        "  true_positive_rate = accuracy_score(GroundTruthSuicidal['Y'], GroundTruthSuicidal['Y Predicted'])\n",
        "  true_negative_rate = accuracy_score(GroundTruthNonSuicidal['Y'], GroundTruthNonSuicidal['Y Predicted'])\n",
        "  positive_precision = true_positive_count/(true_positive_count + false_positive_count)\n",
        "  f1 = f1_score(y_test.tolist(), y_predicted.tolist())\n",
        "  return accuracy, true_positive_rate, true_negative_rate, positive_precision, f1"
      ]
    },
    {
      "cell_type": "markdown",
      "metadata": {
        "id": "8ldpUBIkhPSd"
      },
      "source": [
        "##Add Data to File Function"
      ]
    },
    {
      "cell_type": "code",
      "execution_count": null,
      "metadata": {
        "id": "UjOW1Qkmh1fs"
      },
      "outputs": [],
      "source": [
        "def addDataToFile(results):\n",
        "  file1 = open(\"/content/drive/MyDrive/Machine Learning/Data/results.csv\", \"a+\")\n",
        "  file1.write((','.join(str(item) for item in results)) + \"\\n\")\n",
        "  file1.close()"
      ]
    },
    {
      "cell_type": "markdown",
      "metadata": {
        "id": "ef5juz0mhv3-"
      },
      "source": [
        "#Make Predictions"
      ]
    },
    {
      "cell_type": "code",
      "execution_count": null,
      "metadata": {
        "colab": {
          "base_uri": "https://localhost:8080/"
        },
        "id": "eMVhzjieienJ",
        "outputId": "98ce9159-98a6-40fa-bddd-6ec8c859b972"
      },
      "outputs": [
        {
          "name": "stderr",
          "output_type": "stream",
          "text": [
            "/usr/local/lib/python3.8/dist-packages/sklearn/linear_model/_logistic.py:814: ConvergenceWarning: lbfgs failed to converge (status=1):\n",
            "STOP: TOTAL NO. of ITERATIONS REACHED LIMIT.\n",
            "\n",
            "Increase the number of iterations (max_iter) or scale the data as shown in:\n",
            "    https://scikit-learn.org/stable/modules/preprocessing.html\n",
            "Please also refer to the documentation for alternative solver options:\n",
            "    https://scikit-learn.org/stable/modules/linear_model.html#logistic-regression\n",
            "  n_iter_i = _check_optimize_result(\n",
            "/usr/local/lib/python3.8/dist-packages/sklearn/linear_model/_logistic.py:814: ConvergenceWarning: lbfgs failed to converge (status=1):\n",
            "STOP: TOTAL NO. of ITERATIONS REACHED LIMIT.\n",
            "\n",
            "Increase the number of iterations (max_iter) or scale the data as shown in:\n",
            "    https://scikit-learn.org/stable/modules/preprocessing.html\n",
            "Please also refer to the documentation for alternative solver options:\n",
            "    https://scikit-learn.org/stable/modules/linear_model.html#logistic-regression\n",
            "  n_iter_i = _check_optimize_result(\n"
          ]
        }
      ],
      "source": [
        "#Split Data\n",
        "x_train_bow, y_train, x_test_bow, y_test = dataSplit(data)\n",
        "\n",
        "#TFIDF X data\n",
        "x_train_tfidf, x_test_tfidf = tfidfData(x_train_bow, x_test_bow)\n",
        "\n",
        "#Log Reg BOW\n",
        "results_bow_log = logRegFunction(x_train_bow, y_train, x_test_bow, y_test, \"Bag of Words Logistic Regression\")\n",
        "addDataToFile(results_bow_log)\n",
        "\n",
        "#Log Reg TFIDF\n",
        "results_TDIF_log = logRegFunction(x_train_tfidf, y_train, x_test_tfidf, y_test, \"TDIDF Logistic Regression\")\n",
        "addDataToFile(results_TDIF_log)\n",
        "\n",
        "#MN Naive bayes BOW\n",
        "results_BOW_mnb = mnNaiveBayesFunction(x_train_bow, y_train, x_test_bow, y_test, \"Bag of Words Multinomial Naive Bayes\")\n",
        "addDataToFile(results_BOW_mnb)\n",
        "\n",
        "#MN Naive Bayes TFIDF\n",
        "results_TDIF_mnb = mnNaiveBayesFunction(x_train_tfidf, y_train, x_test_tfidf, y_test, \"TFIDF Multinomial Naive Bayes\")\n",
        "addDataToFile(results_TDIF_mnb)\n",
        "\n",
        "#Random Forest BOW\n",
        "results_BOW_randForest = randomForest(x_train_bow, y_train, x_test_bow, y_test, 50, \"Bag of Words Random Forest\")\n",
        "addDataToFile(results_BOW_randForest)"
      ]
    },
    {
      "cell_type": "code",
      "execution_count": null,
      "metadata": {
        "colab": {
          "background_save": true,
          "base_uri": "https://localhost:8080/"
        },
        "id": "E8ZjIXGc7dsd",
        "outputId": "fd559e71-02f5-4e16-de9f-4af386fd9f8b"
      },
      "outputs": [
        {
          "name": "stdout",
          "output_type": "stream",
          "text": [
            "1e-05\n",
            "0.001\n",
            "0.1\n",
            "1.0\n",
            "10.0\n",
            "100.0\n"
          ]
        }
      ],
      "source": [
        "#Log Reg BOW\n",
        "c_tests = [1e-5, 1e-3, 1e-1, 1e0, 1e1, 1e2]\n",
        "for i in c_tests:\n",
        "  print(i)\n",
        "  results_bow_log = logRegFunction(x_train_bow, y_train, x_test_bow, y_test, (\"Bag of Words Logistic Regression\" + str(i)) ,i)\n",
        "  addDataToFile(results_bow_log)"
      ]
    }
  ],
  "metadata": {
    "colab": {
      "collapsed_sections": [
        "j8pP3btQfSWr",
        "YAJb65KmfXxj",
        "0QnNcu2Ufx0t",
        "DwrYn8UUhJi0",
        "8ldpUBIkhPSd"
      ],
      "provenance": []
    },
    "kernelspec": {
      "display_name": "Python 3",
      "name": "python3"
    },
    "language_info": {
      "name": "python"
    }
  },
  "nbformat": 4,
  "nbformat_minor": 0
}